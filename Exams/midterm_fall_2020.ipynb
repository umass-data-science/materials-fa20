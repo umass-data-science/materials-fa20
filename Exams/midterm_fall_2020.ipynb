{
 "cells": [
  {
   "cell_type": "markdown",
   "metadata": {},
   "source": [
    "# Midterm Fall 2020\n",
    "\n",
    "**Instructions**\n",
    "\n",
    "The exam should be turned in as an .ipynb file on Moodle by 9:00am eastern on Saturday 10/3.  The maximum score for late exams will be reduced by 1 letter grade per 3 hours of lateness with a maximum lateness penalty of three letter grades.  Exams turned in more than 24 hours late will receive no credit.\n",
    "\n",
    "Answer each question using only one cell.  You may create a copy of this notebook and open additional cells for testing, but when you turn in the exam, please only have one cell per question.  Partial credit will be given.  It is easier to give partial credit if you comment your code to say what each line is doing, or trying to do.  If you can't solve a problem fully, try solving part of it for partial credit.\n",
    "\n",
    "Do not import additional libraries.  Use only the libraries already included below.\n",
    "\n",
    "Please post question of clarification to Piazza.  Please only post question related to the questions, not your particular attempts at solutions.\n",
    "\n",
    "The solutions should be displayed in the notebook.  Each question requires only one thing to be displayed.  You don't need to display any intermediate steps you may have taken.\n",
    "\n",
    "Each question is worth the same number of points."
   ]
  },
  {
   "cell_type": "markdown",
   "metadata": {},
   "source": [
    "## 1. Setup\n",
    "Run the two cells below to load the packages and data necessary for this exam.\n",
    "\n",
    "The dataset CPS85 contains data on 534 individuals surveyed in the year 1985.\n",
    "\n",
    "    wage = The hourly wage\n",
    "    educ = years of education\n",
    "    white/hispanic = white or not/hispanic or not\n",
    "    sex = sex (male or female)\n",
    "    sout = whether or not the person was from the south\n",
    "    exper = years of experience\n",
    "    union = whehter or not the person was in a union\n",
    "    age = age in years\n",
    "    sector = what sector the person works in"
   ]
  },
  {
   "cell_type": "code",
   "execution_count": null,
   "metadata": {},
   "outputs": [],
   "source": [
    "from datascience import *\n",
    "import numpy as np\n",
    "import matplotlib\n",
    "%matplotlib inline"
   ]
  },
  {
   "cell_type": "code",
   "execution_count": null,
   "metadata": {},
   "outputs": [],
   "source": [
    "CPS85 = Table.read_table(\"CPS85.csv\")\n",
    "CPS85"
   ]
  },
  {
   "cell_type": "markdown",
   "metadata": {},
   "source": [
    "**Question 1:** Create an table with the 6 oldest workers who have more than 15 years of education."
   ]
  },
  {
   "cell_type": "code",
   "execution_count": null,
   "metadata": {},
   "outputs": [],
   "source": []
  },
  {
   "cell_type": "markdown",
   "metadata": {},
   "source": [
    "**Question 2:** Create a table that contains the maximum age of workers in each ```sector```.  Column names for this table should be ```sector``` and ``maximum_age```"
   ]
  },
  {
   "cell_type": "code",
   "execution_count": null,
   "metadata": {},
   "outputs": [],
   "source": []
  },
  {
   "cell_type": "markdown",
   "metadata": {},
   "source": [
    "**Question 3:** What is the average age of married men with less that 30 years of experience (rounded to 2 decimal places)?"
   ]
  },
  {
   "cell_type": "code",
   "execution_count": null,
   "metadata": {},
   "outputs": [],
   "source": []
  },
  {
   "cell_type": "markdown",
   "metadata": {},
   "source": [
    "**Question 4:** Calculate the average wage of all observations in the data."
   ]
  },
  {
   "cell_type": "code",
   "execution_count": null,
   "metadata": {},
   "outputs": [],
   "source": []
  },
  {
   "cell_type": "markdown",
   "metadata": {},
   "source": [
    "**Question 5:** Create a table that contains the average age of workers broken down by union and sector.  A row of the table should be the average age for each sector of a particular union status.  So, different union statuses should be rows, and different sectors should be columns."
   ]
  },
  {
   "cell_type": "code",
   "execution_count": null,
   "metadata": {},
   "outputs": [],
   "source": []
  },
  {
   "cell_type": "markdown",
   "metadata": {},
   "source": [
    "**Question 6:** Assuming you were going to select five rows from CPS85 at random, what is the probability that at least one of the rows would be a woman?  Solve this problem using the rules of probability.  Make sure the code for your solution would work if I gave you a new table with more rows added (of course, giving you new rows would also change the answer)."
   ]
  },
  {
   "cell_type": "code",
   "execution_count": null,
   "metadata": {},
   "outputs": [],
   "source": []
  },
  {
   "cell_type": "markdown",
   "metadata": {},
   "source": [
    "**Question 7:** Assuming you were going to select five rows from CPS85 at random, what is the probability that at least one of the rows would be a woman?  Solve this problem using simulation.  Use 1000 \"rounds of simulation\""
   ]
  },
  {
   "cell_type": "code",
   "execution_count": null,
   "metadata": {},
   "outputs": [],
   "source": []
  },
  {
   "cell_type": "markdown",
   "metadata": {},
   "source": [
    "**Question 8:** Create a new table called ```CPS85_new```, similar to the original CPS85, except where the the values for the ```union``` variable are ```not_in_union```, and ```in_union```."
   ]
  },
  {
   "cell_type": "code",
   "execution_count": null,
   "metadata": {},
   "outputs": [],
   "source": []
  },
  {
   "cell_type": "markdown",
   "metadata": {},
   "source": [
    "**Question 9:** Write a function that will create a bar plot of the mean of a numerical variable for each sector arranged in order of sectors with the lowest to highest mean.  Use the function to create a bar plot of the average years of experience for each sector."
   ]
  },
  {
   "cell_type": "code",
   "execution_count": null,
   "metadata": {},
   "outputs": [],
   "source": []
  },
  {
   "cell_type": "markdown",
   "metadata": {},
   "source": [
    "**Question 10:** Create a histogram of age by 10 year increments from 0 to 100."
   ]
  },
  {
   "cell_type": "code",
   "execution_count": null,
   "metadata": {},
   "outputs": [],
   "source": []
  },
  {
   "cell_type": "markdown",
   "metadata": {},
   "source": [
    "**Question 11:** Create a new table where the first and last letter of each sector is capitalized for people with ages above 30 and below 50.  Everything else about the table should stay the same.  Partial credit for first completing this with some but not all the stated conditions.  For example, capitalized first letter for all people, or capitalized first letter for only people between 30 and 50 years old."
   ]
  },
  {
   "cell_type": "code",
   "execution_count": null,
   "metadata": {},
   "outputs": [],
   "source": []
  },
  {
   "cell_type": "markdown",
   "metadata": {},
   "source": [
    "**Question 12:** Create an overlaid histogram (a histogram showing two distributions at the same time in different colors).  The first distribution should be 1000 random samples of size 15 of the mean of years of experience.  The second distribution should be 1000 random samples of size 100 of the mean of years of experience."
   ]
  },
  {
   "cell_type": "code",
   "execution_count": null,
   "metadata": {},
   "outputs": [],
   "source": []
  },
  {
   "cell_type": "markdown",
   "metadata": {},
   "source": [
    "**Question 13** Convert the White/Hispanic column into two columns.  One labeled ```white``` the other labeled ```hispanic```.  Replace the existing column with these two new ones, and display the table.  *hint: the data are not as clean as they may appear*"
   ]
  },
  {
   "cell_type": "code",
   "execution_count": null,
   "metadata": {},
   "outputs": [],
   "source": []
  }
 ],
 "metadata": {
  "kernelspec": {
   "display_name": "Python 3",
   "language": "python",
   "name": "python3"
  },
  "language_info": {
   "codemirror_mode": {
    "name": "ipython",
    "version": 3
   },
   "file_extension": ".py",
   "mimetype": "text/x-python",
   "name": "python",
   "nbconvert_exporter": "python",
   "pygments_lexer": "ipython3",
   "version": "3.8.3"
  }
 },
 "nbformat": 4,
 "nbformat_minor": 4
}
