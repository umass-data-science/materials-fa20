{
 "cells": [
  {
   "cell_type": "markdown",
   "metadata": {},
   "source": [
    "# End of semester review lab\n",
    "\n",
    "**Instructions**\n",
    "\n",
    "This lab is designed to be a review of some of the key concepts and coding from the second half of the semester.\n",
    "\n",
    "Your task is to predict the wage in the following data set using all of the available features.  You should do this using two separate models, and compare which model has the lowest RMSE (Root Mean Squared Error).  The two models you should use are linear regression and K-nearest neighbor, with K = 1.  Note that we are using K nearest neighbor in a new way because this is not a classification problem.  The K-nearest neighbor should simply use the nearest neighbor's wage as the prediction wage."
   ]
  },
  {
   "cell_type": "markdown",
   "metadata": {},
   "source": [
    "You will need to follow these steps"
   ]
  },
  {
   "cell_type": "markdown",
   "metadata": {},
   "source": [
    "## 1. Setup\n",
    "Run the two cells below to load the packages and data.\n",
    "\n",
    "The dataset CPS85 contains data on 534 individuals surveyed in the year 1985.\n",
    "\n",
    "    wage = The hourly wage\n",
    "    educ = years of education\n",
    "    sex = sex (male or female)\n",
    "    exper = years of experience\n",
    "    union = whether or not the person was in a union"
   ]
  },
  {
   "cell_type": "code",
   "execution_count": 2,
   "metadata": {},
   "outputs": [],
   "source": [
    "from datascience import *\n",
    "import numpy as np\n",
    "import matplotlib\n",
    "%matplotlib inline"
   ]
  },
  {
   "cell_type": "code",
   "execution_count": 3,
   "metadata": {},
   "outputs": [
    {
     "data": {
      "text/html": [
       "<table border=\"1\" class=\"dataframe\">\n",
       "    <thead>\n",
       "        <tr>\n",
       "            <th>wage</th> <th>educ</th> <th>sex</th> <th>exper</th> <th>union</th>\n",
       "        </tr>\n",
       "    </thead>\n",
       "    <tbody>\n",
       "        <tr>\n",
       "            <td>9   </td> <td>10  </td> <td>M   </td> <td>27   </td> <td>Not  </td>\n",
       "        </tr>\n",
       "        <tr>\n",
       "            <td>5.5 </td> <td>12  </td> <td>M   </td> <td>20   </td> <td>Not  </td>\n",
       "        </tr>\n",
       "        <tr>\n",
       "            <td>3.8 </td> <td>12  </td> <td>F   </td> <td>4    </td> <td>Not  </td>\n",
       "        </tr>\n",
       "        <tr>\n",
       "            <td>10.5</td> <td>12  </td> <td>F   </td> <td>29   </td> <td>Not  </td>\n",
       "        </tr>\n",
       "        <tr>\n",
       "            <td>15  </td> <td>12  </td> <td>M   </td> <td>40   </td> <td>Union</td>\n",
       "        </tr>\n",
       "        <tr>\n",
       "            <td>9   </td> <td>16  </td> <td>F   </td> <td>27   </td> <td>Not  </td>\n",
       "        </tr>\n",
       "        <tr>\n",
       "            <td>9.57</td> <td>12  </td> <td>F   </td> <td>5    </td> <td>Union</td>\n",
       "        </tr>\n",
       "        <tr>\n",
       "            <td>15  </td> <td>14  </td> <td>M   </td> <td>22   </td> <td>Not  </td>\n",
       "        </tr>\n",
       "        <tr>\n",
       "            <td>11  </td> <td>8   </td> <td>M   </td> <td>42   </td> <td>Not  </td>\n",
       "        </tr>\n",
       "        <tr>\n",
       "            <td>5   </td> <td>12  </td> <td>F   </td> <td>14   </td> <td>Not  </td>\n",
       "        </tr>\n",
       "    </tbody>\n",
       "</table>\n",
       "<p>... (524 rows omitted)</p>"
      ],
      "text/plain": [
       "wage | educ | sex  | exper | union\n",
       "9    | 10   | M    | 27    | Not\n",
       "5.5  | 12   | M    | 20    | Not\n",
       "3.8  | 12   | F    | 4     | Not\n",
       "10.5 | 12   | F    | 29    | Not\n",
       "15   | 12   | M    | 40    | Union\n",
       "9    | 16   | F    | 27    | Not\n",
       "9.57 | 12   | F    | 5     | Union\n",
       "15   | 14   | M    | 22    | Not\n",
       "11   | 8    | M    | 42    | Not\n",
       "5    | 12   | F    | 14    | Not\n",
       "... (524 rows omitted)"
      ]
     },
     "execution_count": 3,
     "metadata": {},
     "output_type": "execute_result"
    }
   ],
   "source": [
    "CPS85 = Table.read_table(\"CPS85_small.csv\")\n",
    "CPS85"
   ]
  },
  {
   "cell_type": "markdown",
   "metadata": {},
   "source": [
    "**Step 1: Data Preparation**\n",
    "1. You can't fit a model with categorical data the such as sex and union as text.  You will need to convert those columns into numbers.  Fortunately since both are binary variables, you just need to convert M to 1 and F to 0, and Union to 1 and Not to 0.\n",
    "\n",
    "2. Convert each column to standard units\n",
    "\n",
    "3. Save the cleaned data as CPS85_clean\n",
    "\n",
    "4. Create a train/test split with 70% of the data for training and 30% for testing.  Use a random seed of 1234 so that we all get the same results when we do the train test split.  There should be 374 training observations and 160 test observations.  Name the resulting data sets train and test.  \n",
    "\n",
    "\n"
   ]
  },
  {
   "cell_type": "code",
   "execution_count": 4,
   "metadata": {},
   "outputs": [],
   "source": [
    "def sex_to_b(text):\n",
    "    if text == 'M':\n",
    "        return 1\n",
    "    else: return 0"
   ]
  },
  {
   "cell_type": "code",
   "execution_count": 5,
   "metadata": {},
   "outputs": [],
   "source": [
    "def union_to_b(text):\n",
    "    if text == 'union':\n",
    "        return 1\n",
    "    else: return 0"
   ]
  },
  {
   "cell_type": "code",
   "execution_count": 6,
   "metadata": {},
   "outputs": [
    {
     "data": {
      "text/plain": [
       "array([1, 1, 0, 0, 1, 0, 0, 1, 1, 0, 1, 1, 1, 1, 1, 1, 1, 1, 1, 1, 0, 1,\n",
       "       0, 0, 1, 0, 0, 1, 1, 0, 1, 1, 1, 1, 1, 0, 0, 1, 0, 1, 0, 1, 0, 1,\n",
       "       1, 1, 1, 1, 0, 0, 1, 1, 0, 0, 1, 0, 0, 1, 0, 0, 0, 0, 1, 0, 1, 0,\n",
       "       1, 1, 0, 0, 1, 0, 1, 1, 1, 0, 0, 0, 0, 0, 1, 0, 0, 0, 0, 1, 1, 1,\n",
       "       0, 0, 0, 1, 1, 0, 1, 1, 0, 1, 0, 0, 1, 0, 1, 0, 0, 0, 0, 1, 1, 0,\n",
       "       1, 0, 0, 1, 0, 1, 1, 0, 1, 0, 1, 1, 1, 0, 1, 0, 1, 1, 0, 0, 0, 0,\n",
       "       0, 0, 0, 0, 0, 1, 0, 0, 1, 1, 0, 0, 1, 1, 1, 0, 0, 1, 0, 1, 1, 1,\n",
       "       1, 1, 0, 1, 1, 1, 1, 1, 1, 1, 1, 1, 0, 0, 0, 1, 1, 0, 0, 0, 0, 1,\n",
       "       0, 0, 0, 1, 1, 1, 1, 0, 0, 1, 0, 0, 1, 1, 1, 0, 0, 0, 0, 0, 0, 0,\n",
       "       1, 0, 1, 1, 0, 0, 1, 1, 0, 0, 0, 0, 0, 0, 1, 0, 0, 0, 0, 1, 1, 0,\n",
       "       1, 1, 1, 0, 0, 0, 1, 1, 1, 1, 1, 1, 1, 1, 0, 1, 1, 0, 0, 1, 1, 1,\n",
       "       1, 0, 0, 0, 0, 1, 0, 0, 1, 0, 0, 0, 1, 0, 1, 1, 0, 1, 0, 0, 1, 1,\n",
       "       1, 0, 0, 1, 0, 1, 1, 1, 0, 0, 0, 0, 0, 0, 0, 0, 1, 1, 1, 1, 0, 1,\n",
       "       1, 1, 1, 1, 0, 0, 1, 1, 1, 1, 1, 1, 0, 1, 0, 1, 1, 0, 1, 1, 1, 1,\n",
       "       1, 0, 0, 0, 1, 0, 0, 0, 0, 1, 0, 1, 1, 1, 0, 1, 1, 1, 0, 1, 0, 0,\n",
       "       1, 1, 1, 1, 0, 1, 0, 1, 0, 1, 1, 0, 1, 1, 1, 1, 1, 1, 1, 0, 0, 0,\n",
       "       0, 1, 1, 0, 1, 1, 1, 0, 0, 0, 0, 1, 1, 1, 1, 0, 0, 1, 1, 1, 0, 0,\n",
       "       0, 1, 1, 1, 1, 1, 0, 1, 0, 1, 1, 1, 1, 1, 0, 1, 1, 0, 1, 1, 0, 0,\n",
       "       1, 0, 1, 0, 0, 1, 1, 0, 1, 1, 0, 1, 1, 0, 0, 1, 1, 0, 0, 1, 1, 0,\n",
       "       0, 1, 1, 0, 1, 1, 1, 1, 0, 1, 1, 0, 1, 1, 1, 1, 0, 1, 1, 1, 0, 1,\n",
       "       0, 1, 0, 0, 1, 1, 1, 0, 1, 1, 1, 0, 0, 1, 1, 1, 0, 1, 0, 1, 0, 1,\n",
       "       1, 0, 1, 1, 1, 0, 1, 1, 1, 0, 0, 0, 0, 0, 0, 0, 1, 0, 0, 1, 0, 1,\n",
       "       1, 0, 0, 0, 1, 0, 0, 1, 1, 1, 1, 1, 0, 1, 0, 0, 1, 1, 0, 1, 1, 1,\n",
       "       1, 0, 0, 0, 1, 1, 0, 1, 0, 0, 1, 1, 0, 0, 0, 1, 1, 0, 1, 0, 1, 0,\n",
       "       0, 0, 0, 1, 1, 1])"
      ]
     },
     "execution_count": 6,
     "metadata": {},
     "output_type": "execute_result"
    }
   ],
   "source": [
    "CPS85.apply(sex_to_b, 'sex')"
   ]
  },
  {
   "cell_type": "code",
   "execution_count": 7,
   "metadata": {},
   "outputs": [
    {
     "data": {
      "text/html": [
       "<table border=\"1\" class=\"dataframe\">\n",
       "    <thead>\n",
       "        <tr>\n",
       "            <th>wage</th> <th>educ</th> <th>sex</th> <th>exper</th> <th>union</th>\n",
       "        </tr>\n",
       "    </thead>\n",
       "    <tbody>\n",
       "        <tr>\n",
       "            <td>9   </td> <td>10  </td> <td>1   </td> <td>27   </td> <td>0    </td>\n",
       "        </tr>\n",
       "        <tr>\n",
       "            <td>5.5 </td> <td>12  </td> <td>1   </td> <td>20   </td> <td>0    </td>\n",
       "        </tr>\n",
       "        <tr>\n",
       "            <td>3.8 </td> <td>12  </td> <td>0   </td> <td>4    </td> <td>0    </td>\n",
       "        </tr>\n",
       "        <tr>\n",
       "            <td>10.5</td> <td>12  </td> <td>0   </td> <td>29   </td> <td>0    </td>\n",
       "        </tr>\n",
       "        <tr>\n",
       "            <td>15  </td> <td>12  </td> <td>1   </td> <td>40   </td> <td>0    </td>\n",
       "        </tr>\n",
       "        <tr>\n",
       "            <td>9   </td> <td>16  </td> <td>0   </td> <td>27   </td> <td>0    </td>\n",
       "        </tr>\n",
       "        <tr>\n",
       "            <td>9.57</td> <td>12  </td> <td>0   </td> <td>5    </td> <td>0    </td>\n",
       "        </tr>\n",
       "        <tr>\n",
       "            <td>15  </td> <td>14  </td> <td>1   </td> <td>22   </td> <td>0    </td>\n",
       "        </tr>\n",
       "        <tr>\n",
       "            <td>11  </td> <td>8   </td> <td>1   </td> <td>42   </td> <td>0    </td>\n",
       "        </tr>\n",
       "        <tr>\n",
       "            <td>5   </td> <td>12  </td> <td>0   </td> <td>14   </td> <td>0    </td>\n",
       "        </tr>\n",
       "    </tbody>\n",
       "</table>\n",
       "<p>... (524 rows omitted)</p>"
      ],
      "text/plain": [
       "wage | educ | sex  | exper | union\n",
       "9    | 10   | 1    | 27    | 0\n",
       "5.5  | 12   | 1    | 20    | 0\n",
       "3.8  | 12   | 0    | 4     | 0\n",
       "10.5 | 12   | 0    | 29    | 0\n",
       "15   | 12   | 1    | 40    | 0\n",
       "9    | 16   | 0    | 27    | 0\n",
       "9.57 | 12   | 0    | 5     | 0\n",
       "15   | 14   | 1    | 22    | 0\n",
       "11   | 8    | 1    | 42    | 0\n",
       "5    | 12   | 0    | 14    | 0\n",
       "... (524 rows omitted)"
      ]
     },
     "execution_count": 7,
     "metadata": {},
     "output_type": "execute_result"
    }
   ],
   "source": [
    "CPS85_clean = (CPS85\n",
    "    .with_column('sex', CPS85.apply(sex_to_b, 'sex'))\n",
    "    .with_column('union', CPS85.apply(union_to_b, 'union'))\n",
    ")\n",
    "CPS85_clean"
   ]
  },
  {
   "cell_type": "code",
   "execution_count": 8,
   "metadata": {},
   "outputs": [],
   "source": [
    "np.random.seed(1234)\n",
    "shuffled = CPS85_clean.sample(with_replacement=False) # Randomly permute the rows\n",
    "train = shuffled.take(np.arange(374))\n",
    "test  = shuffled.take(np.arange(374, CPS85_clean.num_rows))"
   ]
  },
  {
   "cell_type": "code",
   "execution_count": 9,
   "metadata": {},
   "outputs": [
    {
     "data": {
      "text/html": [
       "<table border=\"1\" class=\"dataframe\">\n",
       "    <thead>\n",
       "        <tr>\n",
       "            <th>wage</th> <th>educ</th> <th>sex</th> <th>exper</th> <th>union</th>\n",
       "        </tr>\n",
       "    </thead>\n",
       "    <tbody>\n",
       "        <tr>\n",
       "            <td>8.75</td> <td>12  </td> <td>1   </td> <td>9    </td> <td>0    </td>\n",
       "        </tr>\n",
       "        <tr>\n",
       "            <td>12  </td> <td>14  </td> <td>0   </td> <td>10   </td> <td>0    </td>\n",
       "        </tr>\n",
       "        <tr>\n",
       "            <td>20.4</td> <td>17  </td> <td>1   </td> <td>3    </td> <td>0    </td>\n",
       "        </tr>\n",
       "        <tr>\n",
       "            <td>13  </td> <td>12  </td> <td>1   </td> <td>25   </td> <td>0    </td>\n",
       "        </tr>\n",
       "        <tr>\n",
       "            <td>8.5 </td> <td>12  </td> <td>1   </td> <td>13   </td> <td>0    </td>\n",
       "        </tr>\n",
       "        <tr>\n",
       "            <td>7   </td> <td>12  </td> <td>0   </td> <td>10   </td> <td>0    </td>\n",
       "        </tr>\n",
       "        <tr>\n",
       "            <td>4.35</td> <td>11  </td> <td>0   </td> <td>20   </td> <td>0    </td>\n",
       "        </tr>\n",
       "        <tr>\n",
       "            <td>6   </td> <td>7   </td> <td>0   </td> <td>15   </td> <td>0    </td>\n",
       "        </tr>\n",
       "        <tr>\n",
       "            <td>8   </td> <td>12  </td> <td>0   </td> <td>8    </td> <td>0    </td>\n",
       "        </tr>\n",
       "        <tr>\n",
       "            <td>10  </td> <td>10  </td> <td>0   </td> <td>25   </td> <td>0    </td>\n",
       "        </tr>\n",
       "    </tbody>\n",
       "</table>\n",
       "<p>... (364 rows omitted)</p>"
      ],
      "text/plain": [
       "wage | educ | sex  | exper | union\n",
       "8.75 | 12   | 1    | 9     | 0\n",
       "12   | 14   | 0    | 10    | 0\n",
       "20.4 | 17   | 1    | 3     | 0\n",
       "13   | 12   | 1    | 25    | 0\n",
       "8.5  | 12   | 1    | 13    | 0\n",
       "7    | 12   | 0    | 10    | 0\n",
       "4.35 | 11   | 0    | 20    | 0\n",
       "6    | 7    | 0    | 15    | 0\n",
       "8    | 12   | 0    | 8     | 0\n",
       "10   | 10   | 0    | 25    | 0\n",
       "... (364 rows omitted)"
      ]
     },
     "execution_count": 9,
     "metadata": {},
     "output_type": "execute_result"
    }
   ],
   "source": [
    "train"
   ]
  },
  {
   "cell_type": "markdown",
   "metadata": {},
   "source": [
    "# Regression Model "
   ]
  },
  {
   "cell_type": "markdown",
   "metadata": {},
   "source": [
    "**Step 2: Regression Model** \n",
    "\n",
    "1. Define a function that calculates the root mean squared error of a regression model that predicts the wage using all other features.  Note: You have only done this before with one 'x' variable.  Now there are more than one.  All you have to do is to add a 'slope' for each variable. For example the mathematical equation for the predicted value is:\n",
    "\n",
    "$fitted = slope_1*educ + slope_2*sex + slope_3*exper + slope_4*union + intercept$\n",
    "\n",
    "Once you have the fitted value for each data point, you can use it to calculate the RMSE for the model\n",
    "\n",
    "*Hint* This [example from the textbook](https://umass-data-science.github.io/190fwebsite/textbook/15/3/method-of-least-squares/) should help you.  This was also in the last lab we did.\n",
    "\n",
    "2. Use the minimize function to find the slopes and intercept that minimize the the RMSE.  These slopes and intercepts are your model, and the RMSE that these slopes give you is the *training RMSE of your model*"
   ]
  },
  {
   "cell_type": "code",
   "execution_count": 10,
   "metadata": {},
   "outputs": [],
   "source": [
    "def rmse(slope1, slope2, slope3, slope4, intercept):\n",
    "    e = train.column('educ')\n",
    "    s = train.column('sex')\n",
    "    ex = train.column('exper')\n",
    "    u = train.column('union')\n",
    "    w = train.column('wage')\n",
    "    fitted = slope1 * e + slope2 * s + (slope3 * ex + slope4 * u) + intercept\n",
    "    rmse = np.sqrt(np.mean((w - fitted) ** 2))\n",
    "    return rmse"
   ]
  },
  {
   "cell_type": "code",
   "execution_count": 12,
   "metadata": {},
   "outputs": [
    {
     "data": {
      "text/plain": [
       "array([ 9.31258141e-01,  2.14693454e+00,  1.04060094e-01,  3.15191442e+02,\n",
       "       -6.12851452e+00])"
      ]
     },
     "execution_count": 12,
     "metadata": {},
     "output_type": "execute_result"
    }
   ],
   "source": [
    "model_coefs = minimize(rmse)\n",
    "model_coefs#these \"slopes\" minimize the RMSE"
   ]
  },
  {
   "cell_type": "code",
   "execution_count": null,
   "metadata": {},
   "outputs": [],
   "source": []
  },
  {
   "cell_type": "markdown",
   "metadata": {},
   "source": [
    "**Step 3: Calculate test set RMSE**\n",
    "\n",
    "1.  Use the slopes and intercept you calculated from your training data to predict the wage of each observation in your test set.\n",
    "\n",
    "2.  Calculate the RMSE of those predictions.  This is the *test set RMSE of your model*."
   ]
  },
  {
   "cell_type": "code",
   "execution_count": 16,
   "metadata": {},
   "outputs": [
    {
     "data": {
      "text/plain": [
       "4.48293960279929"
      ]
     },
     "execution_count": 16,
     "metadata": {},
     "output_type": "execute_result"
    }
   ],
   "source": [
    "#define a function to calculate test set RMSE notice we use test set here\n",
    "def rmse_test(slope1, slope2, slope3, slope4, intercept):\n",
    "    e = test.column('educ')\n",
    "    s = test.column('sex')\n",
    "    ex = test.column('exper')\n",
    "    u = test.column('union')\n",
    "    w = test.column('wage')\n",
    "    fitted = slope1 * e + slope2 * s + (slope3 * ex + slope4 * u) + intercept\n",
    "    rmse = np.sqrt(np.mean((w - fitted) ** 2))\n",
    "    return rmse"
   ]
  },
  {
   "cell_type": "code",
   "execution_count": 17,
   "metadata": {},
   "outputs": [
    {
     "data": {
      "text/plain": [
       "4.335290672696314"
      ]
     },
     "execution_count": 17,
     "metadata": {},
     "output_type": "execute_result"
    }
   ],
   "source": [
    "#RMSE of test set\n",
    "rmse_test(model_coefs[0], model_coefs[1], model_coefs[2], model_coefs[3], model_coefs[4])"
   ]
  },
  {
   "cell_type": "code",
   "execution_count": 18,
   "metadata": {},
   "outputs": [
    {
     "data": {
      "text/plain": [
       "4.48293960279929"
      ]
     },
     "execution_count": 18,
     "metadata": {},
     "output_type": "execute_result"
    }
   ],
   "source": [
    "#RMSE of training set.\n",
    "#notice the test RMSE is very close, and a bit smaller this is a little unusual but not \n",
    "#so unusual as to worry.\n",
    "rmse(model_coefs[0], model_coefs[1], model_coefs[2], model_coefs[3], model_coefs[4])"
   ]
  },
  {
   "cell_type": "markdown",
   "metadata": {},
   "source": [
    "# K-nearest Neighbor Model"
   ]
  },
  {
   "cell_type": "markdown",
   "metadata": {},
   "source": [
    "Note you should use the same training and test data for this model as you did for the regression.\n",
    "\n",
    "1. Create a function or series of functions that finds the nearest neighbor in the training data of a single row of data.  You will find [this notebook from lecture helpful](http://datahub.cs.umass.edu/hub/user-redirect/git-sync?repo=https://github.com/umass-data-science/materials-fa20&subPath=lec/lec22.ipynb)\n",
    "\n",
    "*hint:* you want the closest() function to work.  You don't need the majority_class or classify functions because this is a regression problem.\n",
    "\n",
    "\n",
    "\n",
    "\n",
    "\n",
    "\n"
   ]
  },
  {
   "cell_type": "code",
   "execution_count": 25,
   "metadata": {},
   "outputs": [],
   "source": [
    " def distance(pt1, pt2):\n",
    "    \"\"\"Return the distance between two points, represented as arrays\"\"\"\n",
    "    return np.sqrt(sum((pt1 - pt2)**2))\n",
    "\n",
    "def row_distance(row1, row2):\n",
    "    \"\"\"Return the distance between two numerical rows of a table\"\"\"\n",
    "    return distance(np.array(row1), np.array(row2))\n",
    "\n",
    "def distances(train, example):\n",
    "    \"\"\"Compute distance between example and every row in train.\n",
    "    Return train augmented with Distance column\"\"\"\n",
    "    distances = make_array()\n",
    "    attributes = train.drop('Class')\n",
    "    for row in attributes.rows:\n",
    "        distances = np.append(distances, row_distance(row, example))\n",
    "    return train.with_column('Distance', distances)\n",
    "\n",
    "def closest(train, example, k):\n",
    "    \"\"\"Return a table of the k closest neighbors to example\"\"\"\n",
    "    return distances(train, example).sort('Distance').take(np.arange(k))"
   ]
  },
  {
   "cell_type": "markdown",
   "metadata": {},
   "source": [
    "2.  Use you function to find the nearest neighbor (k=1) in the training set of each observation in the test set.  The value of the nearest neighbor's wage in the training set is the prediction of the value of wage for the test observation."
   ]
  },
  {
   "cell_type": "code",
   "execution_count": 39,
   "metadata": {},
   "outputs": [],
   "source": [
    "predicted_wage_array = make_array()\n",
    "for i in np.arange(test.num_rows):\n",
    "    predicted_wage = closest(train, test.row(i), 1)[0][0]#this chooses the wage of the nearest neighbor\n",
    "    predicted_wage_array = np.append(predicted_wage_array, predicted_wage)"
   ]
  },
  {
   "cell_type": "code",
   "execution_count": 40,
   "metadata": {},
   "outputs": [
    {
     "data": {
      "text/plain": [
       "13.757630609956061"
      ]
     },
     "execution_count": 40,
     "metadata": {},
     "output_type": "execute_result"
    }
   ],
   "source": []
  },
  {
   "cell_type": "markdown",
   "metadata": {},
   "source": [
    "3.  Calculate the RMSE of the predicted wage using your nearest neighbor prediction.  This is the RMSE of your nearest neighbor model"
   ]
  },
  {
   "cell_type": "code",
   "execution_count": 41,
   "metadata": {},
   "outputs": [
    {
     "data": {
      "text/plain": [
       "13.757630609956061"
      ]
     },
     "execution_count": 41,
     "metadata": {},
     "output_type": "execute_result"
    }
   ],
   "source": [
    "np.sqrt(np.sum((fitted_wage_array - test.column('wage'))**2))"
   ]
  },
  {
   "cell_type": "markdown",
   "metadata": {},
   "source": [
    "**Results:** What are the RMSEs of your two models?  Which one has a lower RMSE on the test set? "
   ]
  },
  {
   "cell_type": "markdown",
   "metadata": {},
   "source": [
    "RMSE of the linear regression model is 4.48, RMSE of the nearest neighbor model is 13.7, so the linear regression model has a lower test set error"
   ]
  },
  {
   "cell_type": "markdown",
   "metadata": {},
   "source": [
    "# Optional, what about larger values of K?"
   ]
  },
  {
   "cell_type": "code",
   "execution_count": 45,
   "metadata": {},
   "outputs": [
    {
     "data": {
      "text/plain": [
       "9.48"
      ]
     },
     "execution_count": 45,
     "metadata": {},
     "output_type": "execute_result"
    }
   ],
   "source": [
    "closest(train, test.row(0), 4)[0].mean()"
   ]
  },
  {
   "cell_type": "code",
   "execution_count": 55,
   "metadata": {},
   "outputs": [],
   "source": [
    "k = 4\n",
    "predicted_wage_array = make_array()\n",
    "for i in np.arange(test.num_rows):\n",
    "    predicted_wage = closest(train, test.row(i), k)[0].mean()#this chooses the mean wage of the nearest neighbor\n",
    "    predicted_wage_array = np.append(predicted_wage_array, predicted_wage)"
   ]
  },
  {
   "cell_type": "code",
   "execution_count": 56,
   "metadata": {},
   "outputs": [
    {
     "data": {
      "text/plain": [
       "10.696611028732416"
      ]
     },
     "execution_count": 56,
     "metadata": {},
     "output_type": "execute_result"
    }
   ],
   "source": [
    "np.sqrt(np.sum((predicted_wage_array - test.column('wage'))**2))"
   ]
  },
  {
   "cell_type": "code",
   "execution_count": null,
   "metadata": {},
   "outputs": [],
   "source": []
  }
 ],
 "metadata": {
  "kernelspec": {
   "display_name": "Python 3",
   "language": "python",
   "name": "python3"
  },
  "language_info": {
   "codemirror_mode": {
    "name": "ipython",
    "version": 3
   },
   "file_extension": ".py",
   "mimetype": "text/x-python",
   "name": "python",
   "nbconvert_exporter": "python",
   "pygments_lexer": "ipython3",
   "version": "3.8.3"
  }
 },
 "nbformat": 4,
 "nbformat_minor": 4
}
